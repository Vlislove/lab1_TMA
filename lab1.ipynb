{
 "cells": [
  {
   "cell_type": "code",
   "execution_count": 98,
   "metadata": {},
   "outputs": [],
   "source": [
    "from sympy import sin, cos\n",
    "import matplotlib.pyplot as plt # Plot\n",
    "import numpy as np # Arrays\n",
    "\n",
    "# Input data\n",
    "Left = 3 # = S`(x0)\n",
    "Right = -5 # = S``(xn)\n",
    "a = 10\n",
    "b = 16\n",
    "n = 5\n",
    "\n",
    "N = n + 1\n",
    "\n",
    "# Creating empty lists\n",
    "xi_ = np.ones(N, dtype=np.float64(0.))\n",
    "yi_ = np.ones(N, dtype=np.float64(0.))\n",
    "hi_ = np.ones(N, dtype=np.float64(0.))\n",
    "\n",
    "# Interpolant \n",
    "def f(t):\n",
    "    if t > 13:\n",
    "        return 100\n",
    "    else:\n",
    "        return 101\n",
    "\n",
    "def fi(t):\n",
    "    return t**3*sin(t) + t*4 + 5"
   ]
  },
  {
   "cell_type": "code",
   "execution_count": 99,
   "metadata": {},
   "outputs": [],
   "source": [
    "# Filling x, y, h arrays\n",
    "for i in range(1, n):\n",
    "    k = float(a+(b-a)/n*(i+(0*cos(5*i))))\n",
    "    xi_[i] = k\n",
    "    yi_[i] = f(k)\n",
    "xi_[n] = b\n",
    "yi_[n] = f(b)\n",
    "xi_[0] = a\n",
    "yi_[0] = f(a)\n",
    "\n",
    "for k in range(N-1):\n",
    "    hi_[k] = xi_[k+1] - xi_[k]"
   ]
  },
  {
   "cell_type": "code",
   "execution_count": 101,
   "metadata": {},
   "outputs": [],
   "source": [
    "def TMA(): # Tridiagonal Matrix Algorithm - to find second diff\n",
    "    # Creating empty lists\n",
    "    m_ = np.ones(N, dtype=np.float64(0.)) \n",
    "    al_ = np.ones(N-1, dtype=np.float64(0.))\n",
    "    bet_ = np.ones(N-1, dtype=np.float64(0.))\n",
    "    \n",
    "    al_[N-2] = 0\n",
    "    bet_[N-2] = Right\n",
    "    \n",
    "    for k in range(N-3, -1, -1):\n",
    "        A = hi_[k]/6\n",
    "        B = (hi_[k] + hi_[k+1])/3\n",
    "        C = hi_[k+1]/6\n",
    "        F = (yi_[k+2] - yi_[k+1])/hi_[k+1] - (yi_[k+1] - yi_[k])/hi_[k]\n",
    "        \n",
    "        al_[k] = -A/(B + C*al_[k+1])\n",
    "        bet_[k] = (F - bet_[k+1]*C)/(B + C*al_[k+1])\n",
    "\n",
    "    B = hi_[0]/3\n",
    "    C = hi_[0]/6\n",
    "    F = (yi_[1] - yi_[0])/hi_[0] - Left\n",
    "    \n",
    "    f = B + C*al_[0]\n",
    "    g = F - bet_[0]*C\n",
    "    if f == 0:\n",
    "        if g == 0:\n",
    "            m_[0] = 0\n",
    "        else:\n",
    "            print(\"ERROR!!!\")\n",
    "    else: \n",
    "        m_[0] = (-bet_[0]*C + F)/(al_[0]*C + B)\n",
    "        \n",
    "    for k in range(1, N):\n",
    "        m_[k] = (m_[k-1]*al_[k-1] + bet_[k-1])\n",
    "    \n",
    "    m_[N-1] = Right\n",
    "    \n",
    "    return m_"
   ]
  },
  {
   "cell_type": "code",
   "execution_count": 102,
   "metadata": {},
   "outputs": [],
   "source": [
    "sd = TMA()\n",
    "def S(t): # Interpolating function\n",
    "    for k in range(N-1):\n",
    "        if xi_[k] <= t <= xi_[k+1]:\n",
    "            return (yi_[k]*(xi_[k+1] - t)/(hi_[k]) \n",
    "                    + yi_[k+1]*(-xi_[k] + t)/(hi_[k]) \n",
    "                    + sd[k]*((xi_[k+1] - t)**3 - hi_[k]**2*(xi_[k+1] - t))/(6*hi_[k]) \n",
    "                    + sd[k+1]*((-xi_[k] + t)**3 - hi_[k]**2*(-xi_[k] + t))/(6*hi_[k]))"
   ]
  },
  {
   "cell_type": "code",
   "execution_count": 103,
   "metadata": {},
   "outputs": [
    {
     "data": {
      "image/png": "[encoded data removed]",
      "text/plain": [
       "<matplotlib.figure.Figure at 0x887d4d0>"
      ]
     },
     "metadata": {},
     "output_type": "display_data"
    }
   ],
   "source": [
    "def create_lists(): # lists for plots\n",
    "    l = 10000\n",
    "    xi = []\n",
    "    y1 = []\n",
    "    y2 = []\n",
    "    delta = (xi_[N-1] - xi_[0])/l\n",
    "    for k in range(l+1):\n",
    "        xi.append(xi_[0] + delta*k)\n",
    "        y1.append(f(xi_[0] + delta*k))\n",
    "        y2.append(S(xi_[0] + delta*k))\n",
    "    return xi, y1, y2\n",
    "        \n",
    "def plotty(): # Plots\n",
    "    fig, ax = plt.subplots()\n",
    "    x_, y1, y2 = create_lists()\n",
    "    ax.plot(x_, y1, color=\"blue\", label=\"f(x)\")\n",
    "    ax.plot(x_, y2, color=\"red\", label=\"s(x)\")\n",
    "    ax.set_xlabel(\"x\")                              \n",
    "    ax.set_ylabel(\"y\")                             \n",
    "    ax.legend()\n",
    "\n",
    "    plt.show()\n",
    "\n",
    "    \n",
    "plotty()"
   ]
  },
  {
   "cell_type": "code",
   "execution_count": 104,
   "metadata": {},
   "outputs": [
    {
     "name": "stdout",
     "output_type": "stream",
     "text": [
      "dS/dx(x0):  2.9999955728499117\n",
      "d2S/dx2(xn):  -4.959588295605499\n"
     ]
    }
   ],
   "source": [
    "def check(): # aproxim. first and second diff\n",
    "    t = 0.000001\n",
    "    print(\"dS/dx(x0): \", float((S(xi_[0] + t) - S(xi_[0]))/t))\n",
    "    print(\"d2S/dx2(xn): \", float(((-2)*float(S(xi_[N-1] - t)) + S(xi_[N-1]) + S(xi_[N-1] - 2*t)))/t**2)\n",
    "\n",
    "\n",
    "check()"
   ]
  }
 ],
 "metadata": {
  "kernelspec": {
   "display_name": "Python 3",
   "language": "python",
   "name": "python3"
  },
  "language_info": {
   "codemirror_mode": {
    "name": "ipython",
    "version": 3
   },
   "file_extension": ".py",
   "mimetype": "text/x-python",
   "name": "python",
   "nbconvert_exporter": "python",
   "pygments_lexer": "ipython3",
   "version": "3.6.0"
  }
 },
 "nbformat": 4,
 "nbformat_minor": 1
}
